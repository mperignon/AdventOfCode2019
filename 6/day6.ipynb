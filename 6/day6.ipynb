{
 "cells": [
  {
   "cell_type": "markdown",
   "metadata": {},
   "source": [
    "#### --- Day 6: Universal Orbit Map ---\n",
    "\n",
    "You've landed at the Universal Orbit Map facility on Mercury. Because navigation in space often involves transferring between orbits, the orbit maps here are useful for finding efficient routes between, for example, you and Santa. You download a map of the local orbits (your puzzle input).\n",
    "\n",
    "Except for the universal Center of Mass (COM), every object in space is in orbit around exactly one other object. An orbit looks roughly like this:\n",
    "\n",
    "```\n",
    "                  \\\n",
    "                   \\\n",
    "                    |\n",
    "                    |\n",
    "AAA--> o            o <--BBB\n",
    "                    |\n",
    "                    |\n",
    "                   /\n",
    "                  /\n",
    "```\n",
    "\n",
    "In this diagram, the object BBB is in orbit around AAA. The path that BBB takes around AAA (drawn with lines) is only partly shown. In the map data, this orbital relationship is written AAA)BBB, which means \"BBB is in orbit around AAA\".\n",
    "\n",
    "Before you use your map data to plot a course, you need to make sure it wasn't corrupted during the download. To verify maps, the Universal Orbit Map facility uses orbit count checksums - the total number of direct orbits (like the one shown above) and indirect orbits.\n",
    "\n",
    "Whenever A orbits B and B orbits C, then A indirectly orbits C. This chain can be any number of objects long: if A orbits B, B orbits C, and C orbits D, then A indirectly orbits D.\n",
    "\n",
    "For example, suppose you have the following map:\n",
    "\n",
    "```\n",
    "COM)B\n",
    "B)C\n",
    "C)D\n",
    "D)E\n",
    "E)F\n",
    "B)G\n",
    "G)H\n",
    "D)I\n",
    "E)J\n",
    "J)K\n",
    "K)L\n",
    "```\n",
    "\n",
    "Visually, the above map of orbits looks like this:\n",
    "```\n",
    "\n",
    "        G - H       J - K - L\n",
    "       /           /\n",
    "COM - B - C - D - E - F\n",
    "               \\\n",
    "                I\n",
    "```\n",
    "\n",
    "In this visual representation, when two objects are connected by a line, the one on the right directly orbits the one on the left.\n",
    "\n",
    "Here, we can count the total number of orbits as follows:\n",
    "\n",
    "```\n",
    "D directly orbits C and indirectly orbits B and COM, a total of 3 orbits.\n",
    "\n",
    "L directly orbits K and indirectly orbits J, E, D, C, B, and COM, a total of 7 orbits.\n",
    "COM orbits nothing.\n",
    "\n",
    "The total number of direct and indirect orbits in this example is 42.\n",
    "```\n",
    "\n",
    "What is the total number of direct and indirect orbits in your map data?"
   ]
  },
  {
   "cell_type": "code",
   "execution_count": 59,
   "metadata": {},
   "outputs": [],
   "source": [
    "import numpy as np\n",
    "import pandas as pd\n",
    "import matplotlib.pyplot as plt\n",
    "%matplotlib inline\n",
    "\n",
    "import networkx as nx\n",
    "from networkx.algorithms.shortest_paths.generic import shortest_path_length, shortest_path"
   ]
  },
  {
   "cell_type": "code",
   "execution_count": 50,
   "metadata": {},
   "outputs": [
    {
     "name": "stdout",
     "output_type": "stream",
     "text": [
      "Pass\n"
     ]
    }
   ],
   "source": [
    "def get_number_of_orbits(orbits):\n",
    "    \n",
    "    nodes = set(orbits.flatten())\n",
    "\n",
    "    G = nx.Graph()\n",
    "    G.add_nodes_from(nodes)\n",
    "    G.add_edges_from(orbits)\n",
    "\n",
    "    # the number of orbits is the sum of the number of edges between COM and all other nodes\n",
    "    sink = 'COM'\n",
    "    num_orbits = 0\n",
    "    for source in [node for node in G.nodes if node != 'COM']:\n",
    "        num_orbits += shortest_path_length(G, source=sink, target=source)\n",
    "\n",
    "    return num_orbits\n",
    "\n",
    "\n",
    "def run_tests():\n",
    "    \n",
    "    orbits = np.array([['COM','B'],\n",
    "                        ['B','C'],\n",
    "                        ['C','D'],\n",
    "                        ['D','E'],\n",
    "                        ['E','F'],\n",
    "                        ['B','G'],\n",
    "                        ['G','H'],\n",
    "                        ['D','I'],\n",
    "                        ['E','J'],\n",
    "                        ['J','K'],\n",
    "                        ['K','L']])\n",
    "    assert get_number_of_orbits(orbits) == 42\n",
    "    \n",
    "    print('Pass')\n",
    "    \n",
    "run_tests()"
   ]
  },
  {
   "cell_type": "code",
   "execution_count": 35,
   "metadata": {},
   "outputs": [
    {
     "name": "stderr",
     "output_type": "stream",
     "text": [
      "/Users/mperignon/anaconda3/envs/barkds/lib/python3.7/site-packages/networkx/drawing/nx_pylab.py:579: MatplotlibDeprecationWarning: \n",
      "The iterable function was deprecated in Matplotlib 3.1 and will be removed in 3.3. Use np.iterable instead.\n",
      "  if not cb.iterable(width):\n"
     ]
    },
    {
     "data": {
      "image/png": "[encoded data removed]",
      "text/plain": [
       "<Figure size 432x288 with 1 Axes>"
      ]
     },
     "metadata": {},
     "output_type": "display_data"
    }
   ],
   "source": [
    "nx.draw(G, with_labels=True, node_size = 150, node_color = 'y')"
   ]
  },
  {
   "cell_type": "code",
   "execution_count": 51,
   "metadata": {},
   "outputs": [
    {
     "data": {
      "text/plain": [
       "314702"
      ]
     },
     "execution_count": 51,
     "metadata": {},
     "output_type": "execute_result"
    }
   ],
   "source": [
    "orbits = pd.read_csv('input_day6.txt', sep = ')', names = ['a','b']).values\n",
    "get_number_of_orbits(orbits)"
   ]
  },
  {
   "cell_type": "markdown",
   "metadata": {},
   "source": [
    "**---Part Two---**\n",
    "\n",
    "Now, you just need to figure out how many orbital transfers you (YOU) need to take to get to Santa (SAN).\n",
    "\n",
    "You start at the object YOU are orbiting; your destination is the object SAN is orbiting. An orbital transfer lets you move from any object to an object orbiting or orbited by that object.\n",
    "\n",
    "For example, suppose you have the following map:\n",
    "\n",
    "```\n",
    "COM)B\n",
    "B)C\n",
    "C)D\n",
    "D)E\n",
    "E)F\n",
    "B)G\n",
    "G)H\n",
    "D)I\n",
    "E)J\n",
    "J)K\n",
    "K)L\n",
    "K)YOU\n",
    "I)SAN\n",
    "```\n",
    "\n",
    "Visually, the above map of orbits looks like this:\n",
    "\n",
    "```\n",
    "                          YOU\n",
    "                         /\n",
    "        G - H       J - K - L\n",
    "       /           /\n",
    "COM - B - C - D - E - F\n",
    "               \\\n",
    "                I - SAN\n",
    "```\n",
    "\n",
    "In this example, YOU are in orbit around K, and SAN is in orbit around I. To move from K to I, a minimum of 4 orbital transfers are required:\n",
    "\n",
    "```\n",
    "K to J\n",
    "J to E\n",
    "E to D\n",
    "D to I\n",
    "```\n",
    "\n",
    "Afterward, the map of orbits looks like this:\n",
    "\n",
    "```\n",
    "        G - H       J - K - L\n",
    "       /           /\n",
    "COM - B - C - D - E - F\n",
    "               \\\n",
    "                I - SAN\n",
    "                 \\\n",
    "                  YOU\n",
    "```\n",
    "\n",
    "What is the minimum number of orbital transfers required to move from the object YOU are orbiting to the object SAN is orbiting? (Between the objects they are orbiting - not between YOU and SAN.)"
   ]
  },
  {
   "cell_type": "code",
   "execution_count": 64,
   "metadata": {},
   "outputs": [],
   "source": [
    "def get_number_of_transfers(orbits):\n",
    "\n",
    "    nodes = set(orbits.flatten())\n",
    "\n",
    "    G = nx.Graph()\n",
    "    G.add_nodes_from(nodes)\n",
    "    G.add_edges_from(orbits)\n",
    "\n",
    "    target_node = list(G.neighbors('SAN'))[0]\n",
    "\n",
    "    number_of_transfers = shortest_path_length(G, 'YOU', target_node) - 1\n",
    "\n",
    "    return number_of_transfers"
   ]
  },
  {
   "cell_type": "code",
   "execution_count": 69,
   "metadata": {},
   "outputs": [
    {
     "name": "stdout",
     "output_type": "stream",
     "text": [
      "Pass\n"
     ]
    }
   ],
   "source": [
    "def run_tests():\n",
    "\n",
    "    orbits = np.array([['COM','B'],\n",
    "                        ['B','C'],\n",
    "                        ['C','D'],\n",
    "                        ['D','E'],\n",
    "                        ['E','F'],\n",
    "                        ['B','G'],\n",
    "                        ['G','H'],\n",
    "                        ['D','I'],\n",
    "                        ['E','J'],\n",
    "                        ['J','K'],\n",
    "                        ['K','L'],\n",
    "                        ['K','YOU'],\n",
    "                        ['I','SAN']])\n",
    "    assert get_number_of_transfers(orbits) == 4\n",
    "    \n",
    "    print('Pass')\n",
    "\n",
    "run_tests()"
   ]
  },
  {
   "cell_type": "code",
   "execution_count": 70,
   "metadata": {},
   "outputs": [
    {
     "data": {
      "text/plain": [
       "439"
      ]
     },
     "execution_count": 70,
     "metadata": {},
     "output_type": "execute_result"
    }
   ],
   "source": [
    "orbits = pd.read_csv('input_day6.txt', sep = ')', names = ['a','b']).values\n",
    "get_number_of_transfers(orbits)"
   ]
  },
  {
   "cell_type": "code",
   "execution_count": null,
   "metadata": {},
   "outputs": [],
   "source": []
  },
  {
   "cell_type": "code",
   "execution_count": null,
   "metadata": {},
   "outputs": [],
   "source": []
  }
 ],
 "metadata": {
  "kernelspec": {
   "display_name": "Python 3",
   "language": "python",
   "name": "python3"
  },
  "language_info": {
   "codemirror_mode": {
    "name": "ipython",
    "version": 3
   },
   "file_extension": ".py",
   "mimetype": "text/x-python",
   "name": "python",
   "nbconvert_exporter": "python",
   "pygments_lexer": "ipython3",
   "version": "3.7.3"
  }
 },
 "nbformat": 4,
 "nbformat_minor": 2
}

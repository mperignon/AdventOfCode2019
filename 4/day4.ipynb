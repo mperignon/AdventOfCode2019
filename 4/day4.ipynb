{
 "cells": [
  {
   "cell_type": "markdown",
   "metadata": {},
   "source": [
    "#### --- Day 4: Secure Container ---\n",
    "\n",
    "You arrive at the Venus fuel depot only to discover it's protected by a password. The Elves had written the password on a sticky note, but someone threw it out.\n",
    "\n",
    "However, they do remember a few key facts about the password:\n",
    "\n",
    "```\n",
    "It is a six-digit number.\n",
    "The value is within the range given in your puzzle input.\n",
    "Two adjacent digits are the same (like 22 in 122345).\n",
    "Going from left to right, the digits never decrease; they only ever increase or stay the same (like 111123 or 135679).\n",
    "```\n",
    "\n",
    "Other than the range rule, the following are true:\n",
    "\n",
    "```\n",
    "111111 meets these criteria (double 11, never decreases).\n",
    "223450 does not meet these criteria (decreasing pair of digits 50).\n",
    "123789 does not meet these criteria (no double).\n",
    "```\n",
    "\n",
    "How many different passwords within the range given in your puzzle input meet these criteria?\n",
    "\n",
    "Your puzzle input is ```124075-580769```."
   ]
  },
  {
   "cell_type": "code",
   "execution_count": 92,
   "metadata": {},
   "outputs": [],
   "source": [
    "import numpy as np\n",
    "\n",
    "min_val = '124075'\n",
    "max_val = '580769'\n",
    "nums = [int(i) for i in min_val]\n",
    "\n",
    "def check_pair(nums):\n",
    "    inds = np.where(np.diff(nums) == 0)[0]\n",
    "    if len(inds) > 0:\n",
    "        return True\n",
    "    else:\n",
    "        return False\n",
    "\n",
    "def check_increase(nums):\n",
    "    inds = np.where(np.diff(nums) < 0)[0]\n",
    "    if len(inds) == 0:\n",
    "        return True\n",
    "    else:\n",
    "        return False\n",
    "\n",
    "def def_increase_num(nums, pos):\n",
    "    increase_num(nums, pos)\n",
    "    \n",
    "def increase_num(nums, pos):\n",
    "    if nums[pos] < 9:\n",
    "        nums[pos] += 1\n",
    "    else:\n",
    "        pos -= 1\n",
    "        if nums[pos] < 9:\n",
    "            nums[pos] += 1\n",
    "            nums[pos+1] = 0\n",
    "        else:\n",
    "            def_increase_num(nums, pos)\n",
    "            \n",
    "count = 0\n",
    "saved = []\n",
    "while int(''.join([str(i) for i in nums])) < int(max_val): \n",
    "    if check_increase(nums) & check_pair(nums):\n",
    "        count += 1\n",
    "        saved.append(''.join([str(i) for i in nums]))\n",
    "        pos = -1\n",
    "        def_increase_num(nums, pos)\n",
    "    else:\n",
    "        if not check_pair(nums):\n",
    "            pos = -1\n",
    "            def_increase_num(nums, pos)\n",
    "        if not check_increase(nums):\n",
    "            inds = np.where(np.diff(nums) < 0)[0]\n",
    "            if len(inds) > 0:\n",
    "                ind = inds[0] + 1\n",
    "                for i in range(ind, len(nums)):\n",
    "                    nums[i] = nums[ind-1]"
   ]
  },
  {
   "cell_type": "code",
   "execution_count": 93,
   "metadata": {},
   "outputs": [
    {
     "data": {
      "text/plain": [
       "2150"
      ]
     },
     "execution_count": 93,
     "metadata": {},
     "output_type": "execute_result"
    }
   ],
   "source": [
    "count"
   ]
  },
  {
   "cell_type": "markdown",
   "metadata": {},
   "source": [
    "**--- Part Two ---**\n",
    "\n",
    "An Elf just remembered one more important detail: the two adjacent matching digits are not part of a larger group of matching digits.\n",
    "\n",
    "Given this additional criterion, but still ignoring the range rule, the following are now true:\n",
    "\n",
    "```\n",
    "112233 meets these criteria because the digits never decrease and all repeated digits are exactly two digits long.\n",
    "123444 no longer meets the criteria (the repeated 44 is part of a larger group of 444).\n",
    "111122 meets the criteria (even though 1 is repeated more than twice, it still contains a double 22).\n",
    "```\n",
    "\n",
    "How many different passwords within the range given in your puzzle input meet all of the criteria?"
   ]
  },
  {
   "cell_type": "code",
   "execution_count": 99,
   "metadata": {},
   "outputs": [],
   "source": [
    "import numpy as np\n",
    "from collections import Counter\n",
    "\n",
    "min_val = '124075'\n",
    "max_val = '580769'\n",
    "nums = [int(i) for i in min_val]\n",
    "\n",
    "def check_pair(nums):\n",
    "    inds = np.where(np.diff(nums) == 0)[0]\n",
    "    if len(inds) > 0:\n",
    "        return True\n",
    "    else:\n",
    "        return False\n",
    "\n",
    "def check_increase(nums):\n",
    "    inds = np.where(np.diff(nums) < 0)[0]\n",
    "    if len(inds) == 0:\n",
    "        return True\n",
    "    else:\n",
    "        return False\n",
    "    \n",
    "def count_nums(nums):\n",
    "    if 2 in Counter(nums).values():\n",
    "        return True\n",
    "    else:\n",
    "        return False\n",
    "\n",
    "def def_increase_num(nums, pos):\n",
    "    increase_num(nums, pos)\n",
    "    \n",
    "def increase_num(nums, pos):\n",
    "    if nums[pos] < 9:\n",
    "        nums[pos] += 1\n",
    "    else:\n",
    "        pos -= 1\n",
    "        if nums[pos] < 9:\n",
    "            nums[pos] += 1\n",
    "            nums[pos+1] = 0\n",
    "        else:\n",
    "            def_increase_num(nums, pos)\n",
    "            \n",
    "count = 0\n",
    "saved = []\n",
    "while int(''.join([str(i) for i in nums])) < int(max_val): \n",
    "    if check_increase(nums) & check_pair(nums):\n",
    "        if count_nums(nums):\n",
    "            count += 1\n",
    "            saved.append(''.join([str(i) for i in nums]))\n",
    "        pos = -1\n",
    "        def_increase_num(nums, pos)\n",
    "    else:\n",
    "        if not check_pair(nums):\n",
    "            pos = -1\n",
    "            def_increase_num(nums, pos)\n",
    "        if not check_increase(nums):\n",
    "            inds = np.where(np.diff(nums) < 0)[0]\n",
    "            if len(inds) > 0:\n",
    "                ind = inds[0] + 1\n",
    "                for i in range(ind, len(nums)):\n",
    "                    nums[i] = nums[ind-1]"
   ]
  },
  {
   "cell_type": "code",
   "execution_count": 100,
   "metadata": {},
   "outputs": [
    {
     "data": {
      "text/plain": [
       "1462"
      ]
     },
     "execution_count": 100,
     "metadata": {},
     "output_type": "execute_result"
    }
   ],
   "source": [
    "count"
   ]
  },
  {
   "cell_type": "code",
   "execution_count": null,
   "metadata": {},
   "outputs": [],
   "source": []
  }
 ],
 "metadata": {
  "kernelspec": {
   "display_name": "Python 3",
   "language": "python",
   "name": "python3"
  },
  "language_info": {
   "codemirror_mode": {
    "name": "ipython",
    "version": 3
   },
   "file_extension": ".py",
   "mimetype": "text/x-python",
   "name": "python",
   "nbconvert_exporter": "python",
   "pygments_lexer": "ipython3",
   "version": "3.7.3"
  }
 },
 "nbformat": 4,
 "nbformat_minor": 2
}

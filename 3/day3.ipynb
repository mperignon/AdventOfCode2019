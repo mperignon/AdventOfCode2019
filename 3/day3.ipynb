{
 "cells": [
  {
   "cell_type": "markdown",
   "metadata": {},
   "source": [
    "#### --- Day 3: Crossed Wires ---\n",
    "\n",
    "The gravity assist was successful, and you're well on your way to the Venus refuelling station. During the rush back on Earth, the fuel management system wasn't completely installed, so that's next on the priority list.\n",
    "\n",
    "Opening the front panel reveals a jumble of wires. Specifically, two wires are connected to a central port and extend outward on a grid. You trace the path each wire takes as it leaves the central port, one wire per line of text (your puzzle input).\n",
    "\n",
    "The wires twist and turn, but the two wires occasionally cross paths. To fix the circuit, you need to find the intersection point closest to the central port. Because the wires are on a grid, use the Manhattan distance for this measurement. While the wires do technically cross right at the central port where they both start, this point does not count, nor does a wire count as crossing with itself.\n",
    "\n",
    "For example, if the first wire's path is R8,U5,L5,D3, then starting from the central port (o), it goes right 8, up 5, left 5, and finally down 3:\n",
    "\n",
    "```\n",
    "...........\n",
    "...........\n",
    "...........\n",
    "....+----+.\n",
    "....|....|.\n",
    "....|....|.\n",
    "....|....|.\n",
    ".........|.\n",
    ".o-------+.\n",
    "...........\n",
    "```\n",
    "\n",
    "Then, if the second wire's path is U7,R6,D4,L4, it goes up 7, right 6, down 4, and left 4:\n",
    "\n",
    "```\n",
    "...........\n",
    ".+-----+...\n",
    ".|.....|...\n",
    ".|..+--X-+.\n",
    ".|..|..|.|.\n",
    ".|.-X--+.|.\n",
    ".|..|....|.\n",
    ".|.......|.\n",
    ".o-------+.\n",
    "...........\n",
    "```\n",
    "\n",
    "These wires cross at two locations (marked X), but the lower-left one is closer to the central port: its distance is 3 + 3 = 6.\n",
    "\n",
    "Here are a few more examples:\n",
    "\n",
    "```\n",
    "R75,D30,R83,U83,L12,D49,R71,U7,L72\n",
    "U62,R66,U55,R34,D71,R55,D58,R83 = distance 159\n",
    "```\n",
    "```\n",
    "R98,U47,R26,D63,R33,U87,L62,D20,R33,U53,R51\n",
    "U98,R91,D20,R16,D67,R40,U7,R15,U6,R7 = distance 135\n",
    "```\n",
    "\n",
    "What is the Manhattan distance from the central port to the closest intersection?"
   ]
  },
  {
   "cell_type": "code",
   "execution_count": 94,
   "metadata": {},
   "outputs": [
    {
     "name": "stdout",
     "output_type": "stream",
     "text": [
      "Got path0\n",
      "Got path1\n",
      "Got path0\n",
      "Got path1\n",
      "Pass\n"
     ]
    }
   ],
   "source": [
    "# assume start point is 0,0\n",
    "# get the indices of all nodes for both wires\n",
    "# find common indices\n",
    "\n",
    "from shapely.geometry import LineString, Point\n",
    "\n",
    "def get_indices(path):\n",
    "\n",
    "    start_pts = [(0,0)]\n",
    "    x0, y0 = 0, 0\n",
    "\n",
    "    for p in path:\n",
    "        direction = p[0]\n",
    "        scalar = int(p[1:])\n",
    "\n",
    "        if direction == 'R':\n",
    "            x0 += scalar\n",
    "            start_pts.append((x0,y0))\n",
    "        elif direction == 'L':\n",
    "            x0 -= scalar\n",
    "            start_pts.append((x0,y0))\n",
    "        elif direction == 'U':\n",
    "            y0 += scalar\n",
    "            start_pts.append((x0,y0))\n",
    "        elif direction == 'D':\n",
    "            y0 -= scalar\n",
    "            start_pts.append((x0,y0))\n",
    "        else:\n",
    "            print('wrong direction', direction) \n",
    "            \n",
    "    return start_pts\n",
    "\n",
    "\n",
    "def find_closest_intersection(path0, path1):\n",
    "    indices0 = get_indices(path0)\n",
    "    print('Got path0')\n",
    "    indices1 = get_indices(path1)\n",
    "    print('Got path1')\n",
    "    \n",
    "    line0 = LineString(indices0)\n",
    "    line1 = LineString(indices1)\n",
    "    intersections = line0.intersection(line1)\n",
    "    intersects = [i.coords[0] for i in intersections]\n",
    "    manhattan_distances = [abs(v[0]) + abs(v[1]) for v in intersects]\n",
    "    return min([d for d in manhattan_distances if d > 0])\n",
    "    \n",
    "\n",
    "def run_tests():\n",
    "    \n",
    "    path0 = ['R75','D30','R83','U83','L12','D49','R71','U7','L72']\n",
    "    path1 = ['U62','R66','U55','R34','D71','R55','D58','R83']\n",
    "    mind = find_closest_intersection(path0, path1)\n",
    "    assert mind == 159\n",
    "\n",
    "    path0 = ['R98','U47','R26','D63','R33','U87','L62','D20','R33','U53','R51']\n",
    "    path1 = ['U98','R91','D20','R16','D67','R40','U7','R15','U6','R7']\n",
    "    mind = find_closest_intersection(path0, path1)\n",
    "    assert mind == 135\n",
    "    \n",
    "    print('Pass')\n",
    "    \n",
    "run_tests()"
   ]
  },
  {
   "cell_type": "code",
   "execution_count": 95,
   "metadata": {},
   "outputs": [
    {
     "name": "stdout",
     "output_type": "stream",
     "text": [
      "Got path0\n",
      "Got path1\n"
     ]
    },
    {
     "data": {
      "text/plain": [
       "1225.0"
      ]
     },
     "execution_count": 95,
     "metadata": {},
     "output_type": "execute_result"
    }
   ],
   "source": [
    "import csv\n",
    "\n",
    "with open('day3_input.txt', 'r') as f:\n",
    "    reader = csv.reader(f)\n",
    "    paths = list(reader)\n",
    "    \n",
    "find_closest_intersection(paths[0], paths[1])"
   ]
  },
  {
   "cell_type": "markdown",
   "metadata": {},
   "source": [
    "**--- Part Two ---**\n",
    "\n",
    "It turns out that this circuit is very timing-sensitive; you actually need to minimize the signal delay.\n",
    "\n",
    "To do this, calculate the number of steps each wire takes to reach each intersection; choose the intersection where the sum of both wires' steps is lowest. If a wire visits a position on the grid multiple times, use the steps value from the first time it visits that position when calculating the total value of a specific intersection.\n",
    "\n",
    "The number of steps a wire takes is the total number of grid squares the wire has entered to get to that location, including the intersection being considered. Again consider the example from above:\n",
    "\n",
    "```\n",
    "...........\n",
    ".+-----+...\n",
    ".|.....|...\n",
    ".|..+--X-+.\n",
    ".|..|..|.|.\n",
    ".|.-X--+.|.\n",
    ".|..|....|.\n",
    ".|.......|.\n",
    ".o-------+.\n",
    "...........\n",
    "```\n",
    "\n",
    "In the above example, the intersection closest to the central port is reached after 8+5+5+2 = 20 steps by the first wire and 7+6+4+3 = 20 steps by the second wire for a total of 20+20 = 40 steps.\n",
    "\n",
    "However, the top-right intersection is better: the first wire takes only 8+5+2 = 15 and the second wire takes only 7+6+2 = 15, a total of 15+15 = 30 steps.\n",
    "\n",
    "Here are the best steps for the extra examples from above:\n",
    "\n",
    "```\n",
    "R75,D30,R83,U83,L12,D49,R71,U7,L72\n",
    "U62,R66,U55,R34,D71,R55,D58,R83 = 610 steps\n",
    "```\n",
    "\n",
    "```\n",
    "R98,U47,R26,D63,R33,U87,L62,D20,R33,U53,R51\n",
    "U98,R91,D20,R16,D67,R40,U7,R15,U6,R7 = 410 steps\n",
    "```\n",
    "\n",
    "What is the fewest combined steps the wires must take to reach an intersection?"
   ]
  },
  {
   "cell_type": "code",
   "execution_count": 110,
   "metadata": {},
   "outputs": [
    {
     "name": "stdout",
     "output_type": "stream",
     "text": [
      "Got path0\n",
      "Got path1\n",
      "Got path0\n",
      "Got path1\n",
      "Pass\n"
     ]
    }
   ],
   "source": [
    "def get_min_combined_distance(path0, path1):\n",
    "\n",
    "    indices0 = get_indices(path0)\n",
    "    print('Got path0')\n",
    "    indices1 = get_indices(path1)\n",
    "    print('Got path1')\n",
    "\n",
    "    line0 = LineString(indices0)\n",
    "    line1 = LineString(indices1)\n",
    "    intersections = line0.intersection(line1)\n",
    "    dist0 = [line0.project(l) for l in intersections]\n",
    "    dist1 = [line1.project(l) for l in intersections]\n",
    "\n",
    "    sum_dist = [dist0[i] + dist1[i] for i in range(len(dist0))]\n",
    "    return min([s for s in sum_dist if s > 0])\n",
    "\n",
    "def run_tests():\n",
    "    \n",
    "    path0 = ['R75','D30','R83','U83','L12','D49','R71','U7','L72']\n",
    "    path1 = ['U62','R66','U55','R34','D71','R55','D58','R83']\n",
    "    mind = get_min_combined_distance(path0, path1)\n",
    "    assert mind == 610\n",
    "\n",
    "    path0 = ['R98','U47','R26','D63','R33','U87','L62','D20','R33','U53','R51']\n",
    "    path1 = ['U98','R91','D20','R16','D67','R40','U7','R15','U6','R7']\n",
    "    mind = get_min_combined_distance(path0, path1)\n",
    "    assert mind == 410\n",
    "    \n",
    "    print('Pass')\n",
    "    \n",
    "run_tests()"
   ]
  },
  {
   "cell_type": "code",
   "execution_count": 114,
   "metadata": {},
   "outputs": [
    {
     "name": "stdout",
     "output_type": "stream",
     "text": [
      "Got path0\n",
      "Got path1\n"
     ]
    },
    {
     "data": {
      "text/plain": [
       "107036.0"
      ]
     },
     "execution_count": 114,
     "metadata": {},
     "output_type": "execute_result"
    }
   ],
   "source": [
    "import csv\n",
    "\n",
    "with open('day3_input.txt', 'r') as f:\n",
    "    reader = csv.reader(f)\n",
    "    paths = list(reader)\n",
    "    \n",
    "get_min_combined_distance(paths[0], paths[1])"
   ]
  }
 ],
 "metadata": {
  "kernelspec": {
   "display_name": "Python 3",
   "language": "python",
   "name": "python3"
  },
  "language_info": {
   "codemirror_mode": {
    "name": "ipython",
    "version": 3
   },
   "file_extension": ".py",
   "mimetype": "text/x-python",
   "name": "python",
   "nbconvert_exporter": "python",
   "pygments_lexer": "ipython3",
   "version": "3.7.3"
  }
 },
 "nbformat": 4,
 "nbformat_minor": 2
}
